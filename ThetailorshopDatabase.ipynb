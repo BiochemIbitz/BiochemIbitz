{
  "cells": [
    {
      "cell_type": "markdown",
      "metadata": {
        "id": "view-in-github",
        "colab_type": "text"
      },
      "source": [
        "<a href=\"https://colab.research.google.com/github/BiochemIbitz/BiochemIbitz/blob/main/ThetailorshopDatabase.ipynb\" target=\"_parent\"><img src=\"https://colab.research.google.com/assets/colab-badge.svg\" alt=\"Open In Colab\"/></a>"
      ]
    },
    {
      "cell_type": "code",
      "execution_count": null,
      "metadata": {
        "colab": {
          "base_uri": "https://localhost:8080/"
        },
        "id": "kYHjRKfKiTaX",
        "outputId": "3db808ae-6ba9-43e2-d461-8bf6c9264722"
      },
      "outputs": [
        {
          "name": "stdout",
          "output_type": "stream",
          "text": [
            "Requirement already satisfied: Flask in /usr/local/lib/python3.10/dist-packages (2.2.5)\n",
            "Requirement already satisfied: Werkzeug>=2.2.2 in /usr/local/lib/python3.10/dist-packages (from Flask) (3.0.4)\n",
            "Requirement already satisfied: Jinja2>=3.0 in /usr/local/lib/python3.10/dist-packages (from Flask) (3.1.4)\n",
            "Requirement already satisfied: itsdangerous>=2.0 in /usr/local/lib/python3.10/dist-packages (from Flask) (2.2.0)\n",
            "Requirement already satisfied: click>=8.0 in /usr/local/lib/python3.10/dist-packages (from Flask) (8.1.7)\n",
            "Requirement already satisfied: MarkupSafe>=2.0 in /usr/local/lib/python3.10/dist-packages (from Jinja2>=3.0->Flask) (2.1.5)\n"
          ]
        }
      ],
      "source": [
        "pip install Flask"
      ]
    },
    {
      "cell_type": "code",
      "execution_count": null,
      "metadata": {
        "colab": {
          "background_save": true,
          "base_uri": "https://localhost:8080/"
        },
        "id": "uJSrUv-8iUo2",
        "outputId": "38c29870-0e23-420f-e3ad-57e5beff24c9"
      },
      "outputs": [
        {
          "name": "stdout",
          "output_type": "stream",
          "text": [
            "Collecting mysql-connector-python\n",
            "  Downloading mysql_connector_python-9.0.0-cp310-cp310-manylinux_2_17_x86_64.whl.metadata (2.0 kB)\n",
            "Downloading mysql_connector_python-9.0.0-cp310-cp310-manylinux_2_17_x86_64.whl (19.3 MB)\n",
            "\u001b[2K   \u001b[90m━━━━━━━━━━━━━━━━━━━━━━━━━━━━━━━━━━━━━━━━\u001b[0m \u001b[32m19.3/19.3 MB\u001b[0m \u001b[31m63.5 MB/s\u001b[0m eta \u001b[36m0:00:00\u001b[0m\n",
            "\u001b[?25hInstalling collected packages: mysql-connector-python\n",
            "Successfully installed mysql-connector-python-9.0.0\n",
            " * Serving Flask app '__main__'\n",
            " * Debug mode: on\n"
          ]
        },
        {
          "name": "stderr",
          "output_type": "stream",
          "text": [
            "INFO:werkzeug:\u001b[31m\u001b[1mWARNING: This is a development server. Do not use it in a production deployment. Use a production WSGI server instead.\u001b[0m\n",
            " * Running on http://127.0.0.1:5000\n",
            "INFO:werkzeug:\u001b[33mPress CTRL+C to quit\u001b[0m\n",
            "INFO:werkzeug: * Restarting with stat\n"
          ]
        }
      ],
      "source": [
        "!pip install mysql-connector-python\n",
        "from flask import Flask, render_template, request, redirect, url_for\n",
        "import mysql.connector\n",
        "\n",
        "app = Flask(__name__)\n",
        "\n",
        "# MySQL connection configuration\n",
        "db_config = {\n",
        "    'user': 'root',  # Default MySQL user on XAMPP\n",
        "    'password': '',  # Usually no password in XAMPP by default\n",
        "    'host': 'localhost',\n",
        "    'database': 'flask_orders',\n",
        "}\n",
        "\n",
        "def get_db_connection():\n",
        "    return mysql.connector.connect(**db_config)\n",
        "\n",
        "# Home page\n",
        "@app.route('/')\n",
        "def home():\n",
        "    return render_template('order.html')\n",
        "\n",
        "# Place order\n",
        "@app.route('/place_order', methods=['POST'])\n",
        "def place_order():\n",
        "    customer_name = request.form['customer_name']\n",
        "    product = request.form['product']\n",
        "    quantity = int(request.form['quantity'])\n",
        "\n",
        "    # Connect to MySQL and insert the order\n",
        "    conn = get_db_connection()\n",
        "    cursor = conn.cursor()\n",
        "    cursor.execute(\n",
        "        \"INSERT INTO orders (customer_name, product, quantity, status) VALUES (%s, %s, %s, %s)\",\n",
        "        (customer_name, product, quantity, 'Pending')\n",
        "    )\n",
        "    conn.commit()\n",
        "    cursor.close()\n",
        "    conn.close()\n",
        "\n",
        "    return redirect(url_for('order_success'))\n",
        "\n",
        "# Success page\n",
        "@app.route('/order_success')\n",
        "def order_success():\n",
        "    return \"Order placed successfully! We'll notify you when your order is processed.\"\n",
        "\n",
        "# View orders (for admin)\n",
        "@app.route('/admin/orders')\n",
        "def view_orders():\n",
        "    conn = get_db_connection()\n",
        "    cursor = conn.cursor()\n",
        "    cursor.execute(\"SELECT * FROM orders\")\n",
        "    orders = cursor.fetchall()\n",
        "    cursor.close()\n",
        "    conn.close()\n",
        "    return render_template('admin_orders.html', orders=orders)\n",
        "\n",
        "if __name__ == '__main__':\n",
        "    app.run(debug=True)"
      ]
    },
    {
      "cell_type": "code",
      "execution_count": null,
      "metadata": {
        "id": "d40v-lZoiuFe"
      },
      "outputs": [],
      "source": [
        "# prompt: please explain the output above\n",
        "\n",
        "# The code you provided sets up a simple web application using Flask that allows users to place orders and for an admin to view them.\n",
        "# Let's break down the key parts:\n",
        "\n",
        "# 1. Database setup:\n",
        "# - `init_db()`: This function creates a SQLite database named 'orders.db' and a table named 'orders' if they don't exist.\n",
        "# - The 'orders' table has columns for `id` (primary key), `customer_name`, `product`, `quantity`, and `status`.\n",
        "\n",
        "# 2. Home page:\n",
        "# - `@app.route('/')`: This defines the route for the home page. When a user visits the root URL ('/'), the `home()` function is called.\n",
        "# - `return render_template('order.html')`: This renders an HTML template named 'order.html', which likely contains a form for users to place their orders.\n",
        "\n",
        "# 3. Place order:\n",
        "# - `@app.route('/place_order', methods=['POST'])`: This defines a route that handles POST requests to '/place_order'. This is triggered when the order form is submitted.\n",
        "# - It retrieves the customer name, product, and quantity from the form data.\n",
        "# - It then inserts a new row into the 'orders' table in the database with the order details and a 'Pending' status.\n",
        "# - Finally, it redirects the user to the '/order_success' route.\n",
        "\n",
        "# 4. Success page:\n",
        "# - `@app.route('/order_success')`: This defines the route for the order success page.\n",
        "# - It displays a simple message confirming that the order was placed successfully.\n",
        "\n",
        "# 5. View orders (admin):\n",
        "# - `@app.route('/admin/orders')`: This defines a route for an admin to view all orders.\n",
        "# - It retrieves all rows from the 'orders' table.\n",
        "# - It then renders an HTML template named 'admin_orders.html', passing the list of orders to the template for display.\n",
        "\n",
        "# 6. Running the app:\n",
        "# - `if __name__ == '__main__':`: This ensures that the code within this block is only executed when the script is run directly.\n",
        "# - `init_db()`: Calls the function to initialize the database.\n",
        "# - `app.run(debug=True)`: Starts the Flask development server in debug mode. This enables automatic reloading of the app when changes are made to the code.\n",
        "\n",
        "# In essence, this code creates a simple order-taking system where users can place orders and an admin can view all orders that have been placed.\n"
      ]
    },
    {
      "cell_type": "code",
      "execution_count": null,
      "metadata": {
        "id": "QCFZCXMrqSIj"
      },
      "outputs": [],
      "source": []
    }
  ],
  "metadata": {
    "colab": {
      "provenance": [],
      "authorship_tag": "ABX9TyOXDcZ+7nLKnnIKoykSDGUd",
      "include_colab_link": true
    },
    "kernelspec": {
      "display_name": "Python 3",
      "name": "python3"
    },
    "language_info": {
      "name": "python"
    }
  },
  "nbformat": 4,
  "nbformat_minor": 0
}